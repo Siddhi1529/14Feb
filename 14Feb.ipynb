{
  "nbformat": 4,
  "nbformat_minor": 0,
  "metadata": {
    "colab": {
      "provenance": []
    },
    "kernelspec": {
      "name": "python3",
      "display_name": "Python 3"
    },
    "language_info": {
      "name": "python"
    }
  },
  "cells": [
    {
      "cell_type": "markdown",
      "source": [
        "Q1. What is multithreading in python? Why is it used? Name the module used to handle threads in python.\n"
      ],
      "metadata": {
        "id": "zqqtvSzJAnTe"
      }
    },
    {
      "cell_type": "markdown",
      "source": [
        "**Multithreading** in Python allows multiple threads to run concurrently within a program, enabling tasks like I/O operations to be performed simultaneously. It is particularly useful for improving performance in I/O-bound tasks, like file handling or network operations. The **`threading`** module is used to manage threads in Python, providing an easy interface to create and control threads."
      ],
      "metadata": {
        "id": "_tI8Pl35BP8c"
      }
    },
    {
      "cell_type": "code",
      "source": [],
      "metadata": {
        "id": "MElhHQOmAsmC"
      },
      "execution_count": null,
      "outputs": []
    },
    {
      "cell_type": "markdown",
      "source": [
        "Q2. Why threading module used? Write the use of the following functions\n",
        "( activeCount(\n",
        " currentThread(\n",
        " enumerate()\n"
      ],
      "metadata": {
        "id": "A8v0FDk7Ass2"
      }
    },
    {
      "cell_type": "markdown",
      "source": [
        "The threading module is used in Python to handle multithreading, allowing multiple threads to run concurrently. It provides an easy way to create and manage threads, making it suitable for tasks that involve waiting, like I/O operations.\n",
        "\n"
      ],
      "metadata": {
        "id": "B29J7sorBaF7"
      }
    },
    {
      "cell_type": "code",
      "source": [],
      "metadata": {
        "id": "t48CFPJlBanJ"
      },
      "execution_count": null,
      "outputs": []
    },
    {
      "cell_type": "markdown",
      "source": [
        "activeCount(): Returns the number of Thread objects currently alive (running or non-daemon threads). It helps monitor the number of threads in execution.\n",
        "\n",
        "currentThread(): Returns the Thread object for the current thread. It allows you to get details of the thread that is currently executing.\n",
        "\n",
        "enumerate(): Returns a list of all Thread objects currently alive. This is useful for inspecting all active threads."
      ],
      "metadata": {
        "id": "NfhnO1soBcs3"
      }
    },
    {
      "cell_type": "code",
      "source": [],
      "metadata": {
        "id": "kgwVHN96AvrD"
      },
      "execution_count": null,
      "outputs": []
    },
    {
      "cell_type": "markdown",
      "source": [
        "Q3. Explain the following functions\n",
        "( run(\n",
        " start(\n",
        " join(\n",
        "' isAlive()\n"
      ],
      "metadata": {
        "id": "dg4DXNhoAv1w"
      }
    },
    {
      "cell_type": "markdown",
      "source": [
        "run(): This function is called when a thread is started. It defines the code to be executed in the thread. The run() method is automatically invoked by the start() method, but you can override it in a subclass of Thread to specify custom behavior.\n",
        "\n",
        "start(): This function starts the thread's activity. It must be called to begin the thread's execution. It internally calls the run() method of the thread\n",
        "\n",
        "join(): This function blocks the execution of the calling thread until the thread on which join() is called completes its execution. It is used to ensure that the main program waits for threads to finish.\n",
        "\n",
        "isAlive(): This function checks if a thread is still running. It returns True if the thread is alive (i.e., it has been started and has not yet finished), and False if it is not.\n"
      ],
      "metadata": {
        "id": "2fWWhHtCB029"
      }
    },
    {
      "cell_type": "code",
      "source": [],
      "metadata": {
        "id": "bH3awDdyAwvW"
      },
      "execution_count": null,
      "outputs": []
    },
    {
      "cell_type": "markdown",
      "source": [
        "Q4. Write a python program to create two threads. Thread one must print the list of squares and thread\n",
        "two must print the list of cubes.\n"
      ],
      "metadata": {
        "id": "XC-aPLGhAw2r"
      }
    },
    {
      "cell_type": "code",
      "source": [
        "import threading\n",
        "\n",
        "# Function to print squares\n",
        "def print_squares():\n",
        "    squares = [x ** 2 for x in range(1, 6)]\n",
        "    print(f\"Squares: {squares}\")\n",
        "\n",
        "# Function to print cubes\n",
        "def print_cubes():\n",
        "    cubes = [x ** 3 for x in range(1, 6)]\n",
        "    print(f\"Cubes: {cubes}\")\n",
        "\n",
        "# Create two threads\n",
        "thread1 = threading.Thread(target=print_squares)\n",
        "thread2 = threading.Thread(target=print_cubes)\n",
        "\n",
        "# Start the threads\n",
        "thread1.start()\n",
        "thread2.start()\n",
        "\n",
        "# Wait for both threads to complete\n",
        "thread1.join()\n",
        "thread2.join()\n",
        "\n",
        "print(\"Both threads have finished execution.\")\n"
      ],
      "metadata": {
        "colab": {
          "base_uri": "https://localhost:8080/"
        },
        "id": "7pxp0S_9AxuB",
        "outputId": "aa984826-61f5-481d-ce9f-f391d6f63475"
      },
      "execution_count": 1,
      "outputs": [
        {
          "output_type": "stream",
          "name": "stdout",
          "text": [
            "Squares: [1, 4, 9, 16, 25]\n",
            "Cubes: [1, 8, 27, 64, 125]\n",
            "Both threads have finished execution.\n"
          ]
        }
      ]
    },
    {
      "cell_type": "code",
      "source": [],
      "metadata": {
        "id": "X67l6EJ4COIT"
      },
      "execution_count": null,
      "outputs": []
    },
    {
      "cell_type": "markdown",
      "source": [
        "Q5. State advantages and disadvantages of multithreading.\n"
      ],
      "metadata": {
        "id": "2tC_lZQ3AyCA"
      }
    },
    {
      "cell_type": "markdown",
      "source": [
        "### Advantages of Multithreading:\n",
        "1. **Improved Performance**: Faster execution for I/O-bound tasks.\n",
        "\n",
        "2. **Better Resource Utilization**: Efficient use of CPU and memory.\n",
        "\n",
        "3. **Enhanced Responsiveness**: Keeps GUI applications responsive during background tasks.\n",
        "\n",
        "4. **Parallelism**: Allows multiple tasks to run concurrently.\n",
        "\n"
      ],
      "metadata": {
        "id": "GxK4GM_sCYXO"
      }
    },
    {
      "cell_type": "markdown",
      "source": [
        "### Disadvantages of Multithreading:\n",
        "1. **Complexity**: Harder to write and debug due to synchronization issues.\n",
        "\n",
        "2. **GIL in Python**: Limits parallelism for CPU-bound tasks.\n",
        "\n",
        "3. **Synchronization Issues**: Can cause race conditions and deadlocks.\n",
        "\n",
        "4. **Overhead**: Too many threads can reduce performance due to resource management."
      ],
      "metadata": {
        "id": "1uIxiDJxCbwD"
      }
    },
    {
      "cell_type": "code",
      "source": [],
      "metadata": {
        "id": "V-t4Z78MAzWQ"
      },
      "execution_count": null,
      "outputs": []
    },
    {
      "cell_type": "markdown",
      "source": [
        "Q6. Explain deadlocks and race conditions."
      ],
      "metadata": {
        "id": "8eGSzHHTAzc0"
      }
    },
    {
      "cell_type": "markdown",
      "source": [
        "A deadlock occurs when two or more threads are blocked forever, each waiting for the other to release a resource. This creates a situation where the threads are stuck in a circular waiting state, and none of them can proceed.\n",
        "\n",
        "A race condition occurs when two or more threads access shared resources simultaneously and the final outcome depends on the timing of thread execution. This can lead to unpredictable behavior and incorrect results."
      ],
      "metadata": {
        "id": "3BI--T6RCjBY"
      }
    },
    {
      "cell_type": "code",
      "source": [],
      "metadata": {
        "id": "RQwq8sCfAzub"
      },
      "execution_count": null,
      "outputs": []
    }
  ]
}